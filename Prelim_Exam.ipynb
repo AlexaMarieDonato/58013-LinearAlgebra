{
  "nbformat": 4,
  "nbformat_minor": 0,
  "metadata": {
    "colab": {
      "provenance": [],
      "authorship_tag": "ABX9TyOmp3cNmJDX6sTgmELWg+t3",
      "include_colab_link": true
    },
    "kernelspec": {
      "name": "python3",
      "display_name": "Python 3"
    },
    "language_info": {
      "name": "python"
    }
  },
  "cells": [
    {
      "cell_type": "markdown",
      "metadata": {
        "id": "view-in-github",
        "colab_type": "text"
      },
      "source": [
        "<a href=\"https://colab.research.google.com/github/AlexaMarieDonato/58013-LinearAlgebra/blob/main/Prelim_Exam.ipynb\" target=\"_parent\"><img src=\"https://colab.research.google.com/assets/colab-badge.svg\" alt=\"Open In Colab\"/></a>"
      ]
    },
    {
      "cell_type": "markdown",
      "source": [
        "Prelim Exam"
      ],
      "metadata": {
        "id": "OdjtdiHKs0uZ"
      }
    },
    {
      "cell_type": "markdown",
      "source": [
        "Question 1. (20 points) Create a Multiplication Table/Chart of 1 to 10 using numpy/ python program."
      ],
      "metadata": {
        "id": "FiAq3nCMtuLZ"
      }
    },
    {
      "cell_type": "code",
      "execution_count": 6,
      "metadata": {
        "colab": {
          "base_uri": "https://localhost:8080/"
        },
        "id": "pf09dLlXshRm",
        "outputId": "c556aafc-aba2-4ebd-ca86-0366f671bc57"
      },
      "outputs": [
        {
          "output_type": "stream",
          "name": "stdout",
          "text": [
            "The multiplication table/chart for 1\n",
            "1 X 1 = 1\n",
            "1 X 2 = 2\n",
            "1 X 3 = 3\n",
            "1 X 4 = 4\n",
            "1 X 5 = 5\n",
            "1 X 6 = 6\n",
            "1 X 7 = 7\n",
            "1 X 8 = 8\n",
            "1 X 9 = 9\n",
            "1 X 10 = 10\n",
            "The multiplication table/chart for 2\n",
            "2 X 1 = 2\n",
            "2 X 2 = 4\n",
            "2 X 3 = 6\n",
            "2 X 4 = 8\n",
            "2 X 5 = 10\n",
            "2 X 6 = 12\n",
            "2 X 7 = 14\n",
            "2 X 8 = 16\n",
            "2 X 9 = 18\n",
            "2 X 10 = 20\n",
            "The multiplication table/chart for 3\n",
            "3 X 1 = 3\n",
            "3 X 2 = 6\n",
            "3 X 3 = 9\n",
            "3 X 4 = 12\n",
            "3 X 5 = 15\n",
            "3 X 6 = 18\n",
            "3 X 7 = 21\n",
            "3 X 8 = 24\n",
            "3 X 9 = 27\n",
            "3 X 10 = 30\n",
            "The multiplication table/chart for 4\n",
            "4 X 1 = 4\n",
            "4 X 2 = 8\n",
            "4 X 3 = 12\n",
            "4 X 4 = 16\n",
            "4 X 5 = 20\n",
            "4 X 6 = 24\n",
            "4 X 7 = 28\n",
            "4 X 8 = 32\n",
            "4 X 9 = 36\n",
            "4 X 10 = 40\n",
            "The multiplication table/chart for 5\n",
            "5 X 1 = 5\n",
            "5 X 2 = 10\n",
            "5 X 3 = 15\n",
            "5 X 4 = 20\n",
            "5 X 5 = 25\n",
            "5 X 6 = 30\n",
            "5 X 7 = 35\n",
            "5 X 8 = 40\n",
            "5 X 9 = 45\n",
            "5 X 10 = 50\n",
            "The multiplication table/chart for 6\n",
            "6 X 1 = 6\n",
            "6 X 2 = 12\n",
            "6 X 3 = 18\n",
            "6 X 4 = 24\n",
            "6 X 5 = 30\n",
            "6 X 6 = 36\n",
            "6 X 7 = 42\n",
            "6 X 8 = 48\n",
            "6 X 9 = 54\n",
            "6 X 10 = 60\n",
            "The multiplication table/chart for 7\n",
            "7 X 1 = 7\n",
            "7 X 2 = 14\n",
            "7 X 3 = 21\n",
            "7 X 4 = 28\n",
            "7 X 5 = 35\n",
            "7 X 6 = 42\n",
            "7 X 7 = 49\n",
            "7 X 8 = 56\n",
            "7 X 9 = 63\n",
            "7 X 10 = 70\n",
            "The multiplication table/chart for 8\n",
            "8 X 1 = 8\n",
            "8 X 2 = 16\n",
            "8 X 3 = 24\n",
            "8 X 4 = 32\n",
            "8 X 5 = 40\n",
            "8 X 6 = 48\n",
            "8 X 7 = 56\n",
            "8 X 8 = 64\n",
            "8 X 9 = 72\n",
            "8 X 10 = 80\n",
            "The multiplication table/chart for 9\n",
            "9 X 1 = 9\n",
            "9 X 2 = 18\n",
            "9 X 3 = 27\n",
            "9 X 4 = 36\n",
            "9 X 5 = 45\n",
            "9 X 6 = 54\n",
            "9 X 7 = 63\n",
            "9 X 8 = 72\n",
            "9 X 9 = 81\n",
            "9 X 10 = 90\n",
            "The multiplication table/chart for 10\n",
            "10 X 1 = 10\n",
            "10 X 2 = 20\n",
            "10 X 3 = 30\n",
            "10 X 4 = 40\n",
            "10 X 5 = 50\n",
            "10 X 6 = 60\n",
            "10 X 7 = 70\n",
            "10 X 8 = 80\n",
            "10 X 9 = 90\n",
            "10 X 10 = 100\n"
          ]
        }
      ],
      "source": [
        "import numpy as np\n",
        "numbers = [1, 2, 3, 4, 5, 6, 7, 8, 9, 10]\n",
        "for i in numbers:\n",
        "  print(\"The multiplication table/chart for\", i)\n",
        "  a = np.multiply(i, numbers[0])\n",
        "  b = np.multiply(i, numbers[1])\n",
        "  c = np.multiply(i, numbers[2])\n",
        "  d = np.multiply(i, numbers[3])\n",
        "  e = np.multiply(i, numbers[4])\n",
        "  f = np.multiply(i, numbers[5])\n",
        "  g = np.multiply(i, numbers[6])\n",
        "  h = np.multiply(i, numbers[7])\n",
        "  j = np.multiply(i, numbers[8])\n",
        "  k = np.multiply(i, numbers[9])\n",
        "  print(i, \"X\", numbers[0], \"=\", a)\n",
        "  print(i, \"X\", numbers[1], \"=\", b)\n",
        "  print(i, \"X\", numbers[2], \"=\", c)\n",
        "  print(i, \"X\", numbers[3], \"=\", d)\n",
        "  print(i, \"X\", numbers[4], \"=\", e)\n",
        "  print(i, \"X\", numbers[5], \"=\", f)\n",
        "  print(i, \"X\", numbers[6], \"=\", g)\n",
        "  print(i, \"X\", numbers[7], \"=\", h)\n",
        "  print(i, \"X\", numbers[8], \"=\", j)\n",
        "  print(i, \"X\", numbers[9], \"=\", k)\n",
        "  i+=1"
      ]
    },
    {
      "cell_type": "markdown",
      "source": [
        "Question 2. (10 points) In relation to Question 1, show a solution that doubles all the values of each element."
      ],
      "metadata": {
        "id": "VW02RsSEtxnn"
      }
    },
    {
      "cell_type": "code",
      "source": [
        "import numpy as np\n",
        "numbers = [1, 2, 3, 4, 5, 6, 7, 8, 9, 10]\n",
        "for i in numbers:\n",
        "  print(\"The multiplication table for\", i, \"with doubled values in each element\")\n",
        "  a = np.multiply(i, numbers[0])\n",
        "  b = np.multiply(i, numbers[1])\n",
        "  c = np.multiply(i, numbers[2])\n",
        "  d = np.multiply(i, numbers[3])\n",
        "  e = np.multiply(i, numbers[4])\n",
        "  f = np.multiply(i, numbers[5])\n",
        "  g = np.multiply(i, numbers[6])\n",
        "  h = np.multiply(i, numbers[7])\n",
        "  j = np.multiply(i, numbers[8])\n",
        "  k = np.multiply(i, numbers[9])\n",
        "  print(i, \"X\", numbers[0], \"=\", 2*a)\n",
        "  print(i, \"X\", numbers[1], \"=\", 2*b)\n",
        "  print(i, \"X\", numbers[2], \"=\", 2*c)\n",
        "  print(i, \"X\", numbers[3], \"=\", 2*d)\n",
        "  print(i, \"X\", numbers[4], \"=\", 2*e)\n",
        "  print(i, \"X\", numbers[5], \"=\", 2*f)\n",
        "  print(i, \"X\", numbers[6], \"=\", 2*g)\n",
        "  print(i, \"X\", numbers[7], \"=\", 2*h)\n",
        "  print(i, \"X\", numbers[8], \"=\", 2*j)\n",
        "  print(i, \"X\", numbers[9], \"=\", 2*k)\n",
        "  i+=1"
      ],
      "metadata": {
        "colab": {
          "base_uri": "https://localhost:8080/"
        },
        "id": "5OOK2wVLt0a3",
        "outputId": "6a8ef2bd-01ac-4b70-d01a-a65c4f9effe2"
      },
      "execution_count": 7,
      "outputs": [
        {
          "output_type": "stream",
          "name": "stdout",
          "text": [
            "The multiplication table for 1 with doubled values in each element\n",
            "1 X 1 = 2\n",
            "1 X 2 = 4\n",
            "1 X 3 = 6\n",
            "1 X 4 = 8\n",
            "1 X 5 = 10\n",
            "1 X 6 = 12\n",
            "1 X 7 = 14\n",
            "1 X 8 = 16\n",
            "1 X 9 = 18\n",
            "1 X 10 = 20\n",
            "The multiplication table for 2 with doubled values in each element\n",
            "2 X 1 = 4\n",
            "2 X 2 = 8\n",
            "2 X 3 = 12\n",
            "2 X 4 = 16\n",
            "2 X 5 = 20\n",
            "2 X 6 = 24\n",
            "2 X 7 = 28\n",
            "2 X 8 = 32\n",
            "2 X 9 = 36\n",
            "2 X 10 = 40\n",
            "The multiplication table for 3 with doubled values in each element\n",
            "3 X 1 = 6\n",
            "3 X 2 = 12\n",
            "3 X 3 = 18\n",
            "3 X 4 = 24\n",
            "3 X 5 = 30\n",
            "3 X 6 = 36\n",
            "3 X 7 = 42\n",
            "3 X 8 = 48\n",
            "3 X 9 = 54\n",
            "3 X 10 = 60\n",
            "The multiplication table for 4 with doubled values in each element\n",
            "4 X 1 = 8\n",
            "4 X 2 = 16\n",
            "4 X 3 = 24\n",
            "4 X 4 = 32\n",
            "4 X 5 = 40\n",
            "4 X 6 = 48\n",
            "4 X 7 = 56\n",
            "4 X 8 = 64\n",
            "4 X 9 = 72\n",
            "4 X 10 = 80\n",
            "The multiplication table for 5 with doubled values in each element\n",
            "5 X 1 = 10\n",
            "5 X 2 = 20\n",
            "5 X 3 = 30\n",
            "5 X 4 = 40\n",
            "5 X 5 = 50\n",
            "5 X 6 = 60\n",
            "5 X 7 = 70\n",
            "5 X 8 = 80\n",
            "5 X 9 = 90\n",
            "5 X 10 = 100\n",
            "The multiplication table for 6 with doubled values in each element\n",
            "6 X 1 = 12\n",
            "6 X 2 = 24\n",
            "6 X 3 = 36\n",
            "6 X 4 = 48\n",
            "6 X 5 = 60\n",
            "6 X 6 = 72\n",
            "6 X 7 = 84\n",
            "6 X 8 = 96\n",
            "6 X 9 = 108\n",
            "6 X 10 = 120\n",
            "The multiplication table for 7 with doubled values in each element\n",
            "7 X 1 = 14\n",
            "7 X 2 = 28\n",
            "7 X 3 = 42\n",
            "7 X 4 = 56\n",
            "7 X 5 = 70\n",
            "7 X 6 = 84\n",
            "7 X 7 = 98\n",
            "7 X 8 = 112\n",
            "7 X 9 = 126\n",
            "7 X 10 = 140\n",
            "The multiplication table for 8 with doubled values in each element\n",
            "8 X 1 = 16\n",
            "8 X 2 = 32\n",
            "8 X 3 = 48\n",
            "8 X 4 = 64\n",
            "8 X 5 = 80\n",
            "8 X 6 = 96\n",
            "8 X 7 = 112\n",
            "8 X 8 = 128\n",
            "8 X 9 = 144\n",
            "8 X 10 = 160\n",
            "The multiplication table for 9 with doubled values in each element\n",
            "9 X 1 = 18\n",
            "9 X 2 = 36\n",
            "9 X 3 = 54\n",
            "9 X 4 = 72\n",
            "9 X 5 = 90\n",
            "9 X 6 = 108\n",
            "9 X 7 = 126\n",
            "9 X 8 = 144\n",
            "9 X 9 = 162\n",
            "9 X 10 = 180\n",
            "The multiplication table for 10 with doubled values in each element\n",
            "10 X 1 = 20\n",
            "10 X 2 = 40\n",
            "10 X 3 = 60\n",
            "10 X 4 = 80\n",
            "10 X 5 = 100\n",
            "10 X 6 = 120\n",
            "10 X 7 = 140\n",
            "10 X 8 = 160\n",
            "10 X 9 = 180\n",
            "10 X 10 = 200\n"
          ]
        }
      ]
    },
    {
      "cell_type": "markdown",
      "source": [
        "Question 3. (10 points) Create a square matrix that has a diagonal 1's."
      ],
      "metadata": {
        "id": "BwdFN-m2uD5f"
      }
    },
    {
      "cell_type": "code",
      "source": [
        "import numpy as np\n",
        "square = np.eye(4,4)\n",
        "print(square)"
      ],
      "metadata": {
        "colab": {
          "base_uri": "https://localhost:8080/"
        },
        "id": "mAgIthpuuEig",
        "outputId": "d4928f32-6020-4f8f-e3a1-bdebe783a785"
      },
      "execution_count": 1,
      "outputs": [
        {
          "output_type": "stream",
          "name": "stdout",
          "text": [
            "[[1. 0. 0. 0.]\n",
            " [0. 1. 0. 0.]\n",
            " [0. 0. 1. 0.]\n",
            " [0. 0. 0. 1.]]\n"
          ]
        }
      ]
    },
    {
      "cell_type": "markdown",
      "source": [
        "Question 4. (30 points) Create a matrix whose elements are the given:"
      ],
      "metadata": {
        "id": "XDIBVapjxJUO"
      }
    },
    {
      "cell_type": "code",
      "source": [
        "import numpy as np\n",
        "matrix = np.array([[1, 2, 3, 4],\n",
        "                   [5, 6, 7, 8],\n",
        "                   [9, 10, 11, 12]])\n",
        "#Type a python program that can view the size, shape, and dimension of the matrix above.\n",
        "size = np.size(matrix)\n",
        "print(size)\n",
        "shape = np.shape(matrix)\n",
        "print(shape)\n",
        "dim = matrix.ndim\n",
        "print(dim)"
      ],
      "metadata": {
        "colab": {
          "base_uri": "https://localhost:8080/"
        },
        "id": "MrJv3OC6xLUM",
        "outputId": "96072616-85c5-4d78-d8e8-c20e30d02c2b"
      },
      "execution_count": 4,
      "outputs": [
        {
          "output_type": "stream",
          "name": "stdout",
          "text": [
            "12\n",
            "(3, 4)\n",
            "2\n"
          ]
        }
      ]
    },
    {
      "cell_type": "markdown",
      "source": [
        "Question 5. (30 points) Create a result array by adding the following two NumPy arrays. Next, modify the result array by calculating the square of each element."
      ],
      "metadata": {
        "id": "D3qal9lOyYst"
      }
    },
    {
      "cell_type": "code",
      "source": [
        "import numpy as np\n",
        "arrayOne = np.array([[5, 6, 9], [21, 18, 27]])\n",
        "arrayTwo = np.array([[15, 33, 24], [4, 18, 27]])\n",
        "add = np.add(arrayOne, arrayTwo)\n",
        "print(add)\n",
        "print(add*add)"
      ],
      "metadata": {
        "id": "i7PwKkVEyZSc",
        "colab": {
          "base_uri": "https://localhost:8080/"
        },
        "outputId": "0e54371d-0cfd-46b4-ec72-12f92fa591ec"
      },
      "execution_count": 2,
      "outputs": [
        {
          "output_type": "stream",
          "name": "stdout",
          "text": [
            "[[20 39 33]\n",
            " [25 36 54]]\n",
            "[[ 400 1521 1089]\n",
            " [ 625 1296 2916]]\n"
          ]
        }
      ]
    }
  ]
}