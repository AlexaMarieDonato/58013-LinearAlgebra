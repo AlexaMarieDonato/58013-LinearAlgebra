{
  "nbformat": 4,
  "nbformat_minor": 0,
  "metadata": {
    "colab": {
      "provenance": [],
      "authorship_tag": "ABX9TyPEwc5njoyRpp622SeToMt6",
      "include_colab_link": true
    },
    "kernelspec": {
      "name": "python3",
      "display_name": "Python 3"
    },
    "language_info": {
      "name": "python"
    }
  },
  "cells": [
    {
      "cell_type": "markdown",
      "metadata": {
        "id": "view-in-github",
        "colab_type": "text"
      },
      "source": [
        "<a href=\"https://colab.research.google.com/github/AlexaMarieDonato/58013-LinearAlgebra/blob/main/Vector_Spaces_and_Operations.ipynb\" target=\"_parent\"><img src=\"https://colab.research.google.com/assets/colab-badge.svg\" alt=\"Open In Colab\"/></a>"
      ]
    },
    {
      "cell_type": "markdown",
      "source": [
        "Matrix in Array"
      ],
      "metadata": {
        "id": "9Fm7r6B8icGX"
      }
    },
    {
      "cell_type": "code",
      "execution_count": 1,
      "metadata": {
        "colab": {
          "base_uri": "https://localhost:8080/"
        },
        "id": "3AebZw16b2zW",
        "outputId": "3c12b723-71cd-4d33-b511-34fc08845854"
      },
      "outputs": [
        {
          "output_type": "stream",
          "name": "stdout",
          "text": [
            "Vector A is  [4 3]\n",
            "Vector B is  [ 2 -5]\n"
          ]
        }
      ],
      "source": [
        "import numpy as np\n",
        "A = np.array([4, 3])\n",
        "B = np.array([2, -5])\n",
        "\n",
        "print(\"Vector A is \", A)\n",
        "print(\"Vector B is \", B)"
      ]
    },
    {
      "cell_type": "markdown",
      "source": [
        "Making a row vector to a column vector"
      ],
      "metadata": {
        "id": "dIR50Zvtk6ZN"
      }
    },
    {
      "cell_type": "code",
      "source": [
        "import numpy as np\n",
        "ball1 = np.array([[1], [2], [3]])\n",
        "print(ball1)"
      ],
      "metadata": {
        "colab": {
          "base_uri": "https://localhost:8080/"
        },
        "id": "T7a6Kn1fk3nu",
        "outputId": "3a608525-34cd-4377-d031-15d990ea41ac"
      },
      "execution_count": 13,
      "outputs": [
        {
          "output_type": "stream",
          "name": "stdout",
          "text": [
            "[[1]\n",
            " [2]\n",
            " [3]]\n"
          ]
        }
      ]
    },
    {
      "cell_type": "markdown",
      "source": [
        "Shape of the Matrix"
      ],
      "metadata": {
        "id": "fU3-BOMUi_5H"
      }
    },
    {
      "cell_type": "code",
      "source": [
        "import numpy as np\n",
        "ball1 = np.array([1, 2, 3])\n",
        "ball2 = np.array([0, 1, -1])\n",
        "print(ball1)\n",
        "print(ball2)\n",
        "b1 = np.shape([ball1, ball2])\n",
        "print(b1)"
      ],
      "metadata": {
        "colab": {
          "base_uri": "https://localhost:8080/"
        },
        "id": "UiMMwoNNh8vi",
        "outputId": "42701c12-17e1-489f-d746-1393a4bbdc77"
      },
      "execution_count": 26,
      "outputs": [
        {
          "output_type": "stream",
          "name": "stdout",
          "text": [
            "[1 2 3]\n",
            "[ 0  1 -1]\n",
            "(2, 3)\n"
          ]
        }
      ]
    },
    {
      "cell_type": "markdown",
      "source": [
        "Vector Addition and Subtraction"
      ],
      "metadata": {
        "id": "bbXuwVsfrgAn"
      }
    },
    {
      "cell_type": "code",
      "source": [
        "import numpy as np\n",
        "\n",
        "a = np.array([4, 3])\n",
        "b = np.array([2, -5])\n",
        "R = a + b\n",
        "r = np.add(a,b)\n",
        "S = a - b\n",
        "s = np.subtract(a,b)\n",
        "sub = np.subtract(b,a)\n",
        "print(R)\n",
        "print(r)\n",
        "print(S)\n",
        "print(s)\n",
        "print(sub)"
      ],
      "metadata": {
        "colab": {
          "base_uri": "https://localhost:8080/"
        },
        "id": "b5tbQfadrhm-",
        "outputId": "4c3a7b58-7b83-4333-d9d3-0a2dd59339dc"
      },
      "execution_count": 38,
      "outputs": [
        {
          "output_type": "stream",
          "name": "stdout",
          "text": [
            "[ 6 -2]\n",
            "[ 6 -2]\n",
            "[2 8]\n",
            "[2 8]\n",
            "[-2 -8]\n"
          ]
        }
      ]
    },
    {
      "cell_type": "markdown",
      "source": [
        "Vector Multiplication"
      ],
      "metadata": {
        "id": "m4vI4ZB-uVpU"
      }
    },
    {
      "cell_type": "code",
      "source": [
        "import numpy as np\n",
        "#scalar product\n",
        "A = np.array([4, 3])\n",
        "S = 5*A\n",
        "print(S)\n",
        "\n",
        "B = np.array([2])\n",
        "s = B*A\n",
        "print(s)"
      ],
      "metadata": {
        "colab": {
          "base_uri": "https://localhost:8080/"
        },
        "id": "1KO0aj8WuXij",
        "outputId": "a45ff11e-7176-4abe-be38-b37a92bda8bb"
      },
      "execution_count": 43,
      "outputs": [
        {
          "output_type": "stream",
          "name": "stdout",
          "text": [
            "[20 15]\n",
            "[8 6]\n"
          ]
        }
      ]
    },
    {
      "cell_type": "code",
      "source": [
        "import numpy as np\n",
        "#Let's code this\n",
        "#Cross Product of A and B\n",
        "A = np.array([2, 3])\n",
        "B = np.array([1, 7])\n",
        "output = np.cross(A, B)\n",
        "output1 = np.dot(A, B)\n",
        "print(output)\n",
        "print(output1)\n",
        "\n",
        "C = np.array([4, 3])\n",
        "D = np.array([[2],[-5]])\n",
        "output2 = np.dot(C, D)\n",
        "print(output2)"
      ],
      "metadata": {
        "colab": {
          "base_uri": "https://localhost:8080/"
        },
        "id": "tQLasgE7vwAb",
        "outputId": "bdea5326-262d-45d6-c4b9-d4f2b4cb6539"
      },
      "execution_count": 60,
      "outputs": [
        {
          "output_type": "stream",
          "name": "stdout",
          "text": [
            "11\n",
            "23\n",
            "[-7]\n"
          ]
        }
      ]
    },
    {
      "cell_type": "markdown",
      "source": [
        "Properties of Matrix"
      ],
      "metadata": {
        "id": "NDsUQ1900Y2l"
      }
    },
    {
      "cell_type": "code",
      "source": [
        "#Identity Matrix\n",
        "c = np.eye(2,2)\n",
        "print(c)\n",
        "d = np.eye(3,3)\n",
        "print(d)\n",
        "\n",
        "#Zero Matrix\n",
        "e = np.zeros([5,5])\n",
        "print(e)\n",
        "\n",
        "#Full Matrix\n",
        "f = np.full([4, 4], 7)\n",
        "print(f)\n",
        "\n",
        "#Transpose Matrix\n",
        "F =  np.array([[2, 5], [3, 6]])\n",
        "g = np.transpose(F)\n",
        "print(g)"
      ],
      "metadata": {
        "colab": {
          "base_uri": "https://localhost:8080/"
        },
        "id": "pOWagV0PzWuf",
        "outputId": "bbd940d7-b58d-4907-8eb7-ee8883c36972"
      },
      "execution_count": 69,
      "outputs": [
        {
          "output_type": "stream",
          "name": "stdout",
          "text": [
            "[[1. 0.]\n",
            " [0. 1.]]\n",
            "[[1. 0. 0.]\n",
            " [0. 1. 0.]\n",
            " [0. 0. 1.]]\n",
            "[[0. 0. 0. 0. 0.]\n",
            " [0. 0. 0. 0. 0.]\n",
            " [0. 0. 0. 0. 0.]\n",
            " [0. 0. 0. 0. 0.]\n",
            " [0. 0. 0. 0. 0.]]\n",
            "[[7 7 7 7]\n",
            " [7 7 7 7]\n",
            " [7 7 7 7]\n",
            " [7 7 7 7]]\n",
            "[[2 3]\n",
            " [5 6]]\n"
          ]
        }
      ]
    }
  ]
}