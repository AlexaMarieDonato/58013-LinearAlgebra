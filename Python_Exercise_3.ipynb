{
  "nbformat": 4,
  "nbformat_minor": 0,
  "metadata": {
    "colab": {
      "provenance": [],
      "authorship_tag": "ABX9TyNZLFvtVp+YwClDWJii0h5g",
      "include_colab_link": true
    },
    "kernelspec": {
      "name": "python3",
      "display_name": "Python 3"
    },
    "language_info": {
      "name": "python"
    }
  },
  "cells": [
    {
      "cell_type": "markdown",
      "metadata": {
        "id": "view-in-github",
        "colab_type": "text"
      },
      "source": [
        "<a href=\"https://colab.research.google.com/github/AlexaMarieDonato/58013-LinearAlgebra/blob/main/Python_Exercise_3.ipynb\" target=\"_parent\"><img src=\"https://colab.research.google.com/assets/colab-badge.svg\" alt=\"Open In Colab\"/></a>"
      ]
    },
    {
      "cell_type": "markdown",
      "source": [
        "Vector Operations"
      ],
      "metadata": {
        "id": "GXFS-Un1ObG0"
      }
    },
    {
      "cell_type": "markdown",
      "source": [
        "Vector Addition"
      ],
      "metadata": {
        "id": "3-qQd7W-OcXj"
      }
    },
    {
      "cell_type": "code",
      "execution_count": 4,
      "metadata": {
        "colab": {
          "base_uri": "https://localhost:8080/"
        },
        "id": "VzEBUrGROatE",
        "outputId": "c7cef54b-9c72-43c6-868a-f58edf4c5ce7"
      },
      "outputs": [
        {
          "output_type": "stream",
          "name": "stdout",
          "text": [
            "[ 4  3 -1]\n",
            "[ 4  3 -1]\n",
            "2\n"
          ]
        }
      ],
      "source": [
        "import numpy as np\n",
        "A = np.array([1,2,0])\n",
        "B = np.array([3,1,-2])\n",
        "C = np.array([0,0,1])\n",
        "print(A+B+C)\n",
        "D = np.add(A,np.add(B,C))\n",
        "E = np.sum(B)\n",
        "print(D)\n",
        "print(E)"
      ]
    },
    {
      "cell_type": "markdown",
      "source": [
        "Vector Subtraction"
      ],
      "metadata": {
        "id": "IrMrO6VxO6-F"
      }
    },
    {
      "cell_type": "code",
      "source": [
        "F = np.subtract(A,B)\n",
        "print(A-B)\n",
        "print(F)"
      ],
      "metadata": {
        "colab": {
          "base_uri": "https://localhost:8080/"
        },
        "id": "CwgqK_bTO8zz",
        "outputId": "b1175275-0e53-4636-bfc9-791e8c1a7095"
      },
      "execution_count": 7,
      "outputs": [
        {
          "output_type": "stream",
          "name": "stdout",
          "text": [
            "[-2  1  2]\n",
            "[-2  1  2]\n"
          ]
        }
      ]
    },
    {
      "cell_type": "markdown",
      "source": [
        "Vector Multiplication"
      ],
      "metadata": {
        "id": "gMa6nsd1PIoL"
      }
    },
    {
      "cell_type": "code",
      "source": [
        "G = np.multiply(A,B)\n",
        "print(A*B)\n",
        "print(G)"
      ],
      "metadata": {
        "colab": {
          "base_uri": "https://localhost:8080/"
        },
        "id": "Q1_iu5tTPIrj",
        "outputId": "5d0f9425-1174-4346-f389-67558bc18430"
      },
      "execution_count": 8,
      "outputs": [
        {
          "output_type": "stream",
          "name": "stdout",
          "text": [
            "[3 2 0]\n",
            "[3 2 0]\n"
          ]
        }
      ]
    },
    {
      "cell_type": "markdown",
      "source": [
        "Vector Division"
      ],
      "metadata": {
        "id": "MhKKeygjPTkD"
      }
    },
    {
      "cell_type": "code",
      "source": [
        "H = np.divide(A,B)\n",
        "print(A/B)\n",
        "print(H)\n",
        "\n",
        "I = np.array([3.9,1.8,7.7])\n",
        "J = np.array([1,1,1])\n",
        "print(I//J)\n",
        "print(np.array(A/B,dtype=int))"
      ],
      "metadata": {
        "colab": {
          "base_uri": "https://localhost:8080/"
        },
        "id": "iXSfg14ZPTpb",
        "outputId": "b88eb30c-1a94-4f76-f554-87dcfb579c15"
      },
      "execution_count": 10,
      "outputs": [
        {
          "output_type": "stream",
          "name": "stdout",
          "text": [
            "[ 0.33333333  2.         -0.        ]\n",
            "[ 0.33333333  2.         -0.        ]\n",
            "[3. 1. 7.]\n",
            "[0 2 0]\n"
          ]
        }
      ]
    }
  ]
}