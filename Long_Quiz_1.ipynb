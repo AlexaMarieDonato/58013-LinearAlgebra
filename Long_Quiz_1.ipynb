{
  "nbformat": 4,
  "nbformat_minor": 0,
  "metadata": {
    "colab": {
      "provenance": [],
      "authorship_tag": "ABX9TyOGmMUE0oRsdPjTi8V080Q7",
      "include_colab_link": true
    },
    "kernelspec": {
      "name": "python3",
      "display_name": "Python 3"
    },
    "language_info": {
      "name": "python"
    }
  },
  "cells": [
    {
      "cell_type": "markdown",
      "metadata": {
        "id": "view-in-github",
        "colab_type": "text"
      },
      "source": [
        "<a href=\"https://colab.research.google.com/github/AlexaMarieDonato/58013-LinearAlgebra/blob/main/Long_Quiz_1.ipynb\" target=\"_parent\"><img src=\"https://colab.research.google.com/assets/colab-badge.svg\" alt=\"Open In Colab\"/></a>"
      ]
    },
    {
      "cell_type": "markdown",
      "source": [
        "Problem 1. Consider the four matrices, (20 points each)"
      ],
      "metadata": {
        "id": "mTJhf3dFjXG2"
      }
    },
    {
      "cell_type": "code",
      "execution_count": 23,
      "metadata": {
        "colab": {
          "base_uri": "https://localhost:8080/"
        },
        "id": "YR8b4VMmSJZh",
        "outputId": "c7e33378-d65f-463b-e734-fc559b9c4468"
      },
      "outputs": [
        {
          "output_type": "stream",
          "name": "stdout",
          "text": [
            "This is AB\n",
            "[[22 28]\n",
            " [49 64]]\n",
            "This is D + D\n",
            "[[2 4]\n",
            " [6 8]]\n",
            "This is 2C\n",
            "[[ 2  4  6]\n",
            " [ 8 10 12]\n",
            " [14 16 18]]\n"
          ]
        }
      ],
      "source": [
        "import numpy as np\n",
        "A = np.array([[1, 2, 3], [4, 5, 6]])\n",
        "B = np.array([[1, 2], [3, 4], [5, 6]])\n",
        "C = np.array([[1, 2, 3], [4, 5, 6], [7, 8, 9]])\n",
        "D = np.array([[1, 2], [3, 4]])\n",
        "#a. AB\n",
        "print(\"This is AB\")\n",
        "multiply = np.dot(A, B)\n",
        "print(multiply)\n",
        "#b. D + D\n",
        "print(\"This is D + D\")\n",
        "add = np.add(D, D)\n",
        "print(add)\n",
        "#c. 2C\n",
        "print(\"This is 2C\")\n",
        "m = 2*C\n",
        "print(m)"
      ]
    },
    {
      "cell_type": "markdown",
      "source": [
        "Problem 2. Find the cross-product of matrices, A = [2,7,4] and B = [3,9,8]."
      ],
      "metadata": {
        "id": "V_RF5Yzjjblo"
      }
    },
    {
      "cell_type": "code",
      "source": [
        "A = np.array([2, 7, 4])\n",
        "B = np.array([3, 9, 8])\n",
        "product = np.cross(A, B)\n",
        "print(\"The cross product of A and B is\", product)\n",
        "\n",
        "#SOLUTION\n",
        "#A = 2i + 7j + 4k\n",
        "#B = 3i + 9j + 8k\n",
        "i = ((A[1]*B[2]) - (A[2]*B[1]))\n",
        "j = ((A[2]*B[0]) - (A[0]*B[2]))\n",
        "k = ((A[0]*B[1]) - (A[1]*B[0]))\n",
        "print(\"The cross product of A and B is\", i, \"i\", j, \"j\", k, \"k\")"
      ],
      "metadata": {
        "colab": {
          "base_uri": "https://localhost:8080/"
        },
        "id": "75S88DRIjgUs",
        "outputId": "7b723c8d-323c-4911-efd2-61515caf6bff"
      },
      "execution_count": 25,
      "outputs": [
        {
          "output_type": "stream",
          "name": "stdout",
          "text": [
            "The cross product of A and B is [20 -4 -3]\n",
            "The cross product of A and B is 20 i -4 j -3 k\n"
          ]
        }
      ]
    }
  ]
}