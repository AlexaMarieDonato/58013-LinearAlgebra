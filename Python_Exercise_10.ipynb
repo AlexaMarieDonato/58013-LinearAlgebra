{
  "nbformat": 4,
  "nbformat_minor": 0,
  "metadata": {
    "colab": {
      "provenance": [],
      "authorship_tag": "ABX9TyMeb5p0pkidq9zweTFvqs6V",
      "include_colab_link": true
    },
    "kernelspec": {
      "name": "python3",
      "display_name": "Python 3"
    },
    "language_info": {
      "name": "python"
    }
  },
  "cells": [
    {
      "cell_type": "markdown",
      "metadata": {
        "id": "view-in-github",
        "colab_type": "text"
      },
      "source": [
        "<a href=\"https://colab.research.google.com/github/AlexaMarieDonato/58013-LinearAlgebra/blob/main/Python_Exercise_10.ipynb\" target=\"_parent\"><img src=\"https://colab.research.google.com/assets/colab-badge.svg\" alt=\"Open In Colab\"/></a>"
      ]
    },
    {
      "cell_type": "markdown",
      "source": [
        "System of Linear Equation"
      ],
      "metadata": {
        "id": "frf3BQ2bHL8s"
      }
    },
    {
      "cell_type": "code",
      "execution_count": null,
      "metadata": {
        "colab": {
          "base_uri": "https://localhost:8080/"
        },
        "id": "ZbM5CUDrHLYe",
        "outputId": "9171e2ed-9e49-40dc-9932-ccc5ab7bdb54"
      },
      "outputs": [
        {
          "output_type": "stream",
          "name": "stdout",
          "text": [
            "[[ 1.  1.  1.]\n",
            " [ 3. -2. -1.]\n",
            " [-1.  4.  2.]]\n",
            "(3, 3)\n",
            "[[ 1.]\n",
            " [ 4.]\n",
            " [-3.]]\n",
            "(3, 1)\n"
          ]
        }
      ],
      "source": [
        "import numpy as np\n",
        "X = np.array([\n",
        "    [1,1,1],\n",
        "    [3,-2,-1],\n",
        "    [-1,4,2]\n",
        "], dtype=float)\n",
        "Y = np.array([\n",
        "    [1],\n",
        "    [4],\n",
        "    [-3]\n",
        "],dtype=float)\n",
        "print(X)\n",
        "print(X.shape)\n",
        "print(Y)\n",
        "print(Y.shape)"
      ]
    },
    {
      "cell_type": "markdown",
      "source": [
        "Coding Activity 10"
      ],
      "metadata": {
        "id": "K_-DoFdo_jhL"
      }
    },
    {
      "cell_type": "code",
      "source": [
        "#So let's start off with an easy one. Let's say you have a bakery and you are purchasing supplies consisting of flour, yeast, and eggs from your supplier.\n",
        "#For month 1 you bought a bakery promo that consists of 30 sacks of flour, 10 packs of yeast, and 120 eggs and you are charged for 12,500 pesos.\n",
        "#For month two you bought a different bakery promo that consists of 40 sacks of flour, 20 packs of yeast, and 200 eggs then you are charged with 18,000 pesos.\n",
        "#And then for month three you bought yet a different bakery promo that consists of 50 sacks of flour, 40 packs of yeast, and 360 eggs for 25,700 pesos.\n",
        "#Now you are wondering if the promos are more cost-effective compared to buying them as a regular buyer, what could be the price of the flour per sack, yeast per pack, and one piece of egg?\n",
        "#Create a python program to solve for the price of flour per sack, yeast per pack, and one piece of egg.\n",
        "import numpy as np\n",
        "\n",
        "eq1 = 30*x + 10*y + 120*z == 12500\n",
        "eq2 = 40*x + 20*y + 200*z == 18000\n",
        "eq3 = 50*x + 40*y + 360*z == 25700\n",
        "\n",
        "A = np.array([[30, 10, 120], [40, 20, 200], [50, 40, 360]])\n",
        "A1 = np.array([[12500, 10, 120], [18000, 20, 200], [25700, 40, 360]])\n",
        "A2 = np.array([[30, 12500, 120], [40, 18000, 200], [50, 25700, 360]])\n",
        "A3 = np.array([[30, 10, 12500], [40, 20, 18000], [50, 40, 25700]])\n",
        "dA = np.linalg.det(A)\n",
        "dA1 = np.linalg.det(A1)\n",
        "dA2 = np.linalg.det(A2)\n",
        "dA3 = np.linalg.det(A3)\n",
        "x = dA1/dA\n",
        "y = dA2/dA\n",
        "z = dA3/dA\n",
        "print(\"As computed using the previous bakery promos, the price of flour per sack is:\", x, \"pesos\")\n",
        "print(\"The price of yeast per pack is:\", y, \"pesos\")\n",
        "print(\"And the price for one piece of egg is:\", z, \"pesos\")"
      ],
      "metadata": {
        "colab": {
          "base_uri": "https://localhost:8080/"
        },
        "id": "oeJZa9a2HY6V",
        "outputId": "cf16c4a2-d244-4b27-c68c-e7c4be4f6941"
      },
      "execution_count": 9,
      "outputs": [
        {
          "output_type": "stream",
          "name": "stdout",
          "text": [
            "As computed using the previous bakery promos, the price of flour per sack is: 329.99999999999784 pesos\n",
            "The price of yeast per pack is: 139.99999999999994 pesos\n",
            "And the price for one piece of egg is: 10.000000000000242 pesos\n"
          ]
        }
      ]
    }
  ]
}