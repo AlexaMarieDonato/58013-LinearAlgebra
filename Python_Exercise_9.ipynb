{
  "nbformat": 4,
  "nbformat_minor": 0,
  "metadata": {
    "colab": {
      "provenance": [],
      "authorship_tag": "ABX9TyNyszn4ic3wtddXGm78964c",
      "include_colab_link": true
    },
    "kernelspec": {
      "name": "python3",
      "display_name": "Python 3"
    },
    "language_info": {
      "name": "python"
    }
  },
  "cells": [
    {
      "cell_type": "markdown",
      "metadata": {
        "id": "view-in-github",
        "colab_type": "text"
      },
      "source": [
        "<a href=\"https://colab.research.google.com/github/AlexaMarieDonato/58013-LinearAlgebra/blob/main/Python_Exercise_9.ipynb\" target=\"_parent\"><img src=\"https://colab.research.google.com/assets/colab-badge.svg\" alt=\"Open In Colab\"/></a>"
      ]
    },
    {
      "cell_type": "markdown",
      "source": [
        "Matrix Algebra"
      ],
      "metadata": {
        "id": "UM5QUpxq5Th9"
      }
    },
    {
      "cell_type": "code",
      "execution_count": 2,
      "metadata": {
        "colab": {
          "base_uri": "https://localhost:8080/"
        },
        "id": "NZ_n8Jyp5Q6G",
        "outputId": "a885d9b0-5da9-4b72-bd5b-7ae1bf8cf537"
      },
      "outputs": [
        {
          "output_type": "execute_result",
          "data": {
            "text/plain": [
              "-235.0000000000002"
            ]
          },
          "metadata": {},
          "execution_count": 2
        }
      ],
      "source": [
        "import numpy as np\n",
        "import matplotlib.pyplot as plt\n",
        "%matplotlib inline\n",
        "A = np.array([[1,4],[0,3]])\n",
        "np.linalg.det(A)\n",
        "B = np.array([[1,3,5,6],[0,3,1,3],[3,1,8,2],[5,2,6,8]])\n",
        "np.linalg.det(B)"
      ]
    },
    {
      "cell_type": "code",
      "source": [
        "#Coding Activity 9\n",
        "import numpy as np\n",
        "#Associative\n",
        "A = np.array([\n",
        "[5,9,4,1],\n",
        "[2,4,6,8],\n",
        "[1,3,5,7],\n",
        "[7,8,10,5]])\n",
        "B = np.array([\n",
        "[6,1,2,5],\n",
        "[2,9,10,4],\n",
        "[6,9,8,5],\n",
        "[3,8,10,4]])\n",
        "C = np.array([\n",
        "[5,2,1,7],\n",
        "[9,4,3,8],\n",
        "[4,6,5,10],\n",
        "[1,8,7,5]])\n",
        "print((A*B)*C)\n",
        "print(A*(B*C))\n",
        "print(\"This shows Associative property.\")\n",
        "#Commutative\n",
        "C = np.array([\n",
        "[5,9,4,1],\n",
        "[2,4,6,8],\n",
        "[1,3,5,7],\n",
        "[7,8,10,5]])\n",
        "D = np.array([\n",
        "[5,2,1,7],\n",
        "[9,4,3,8],\n",
        "[4,6,5,10],\n",
        "[1,8,7,5]])\n",
        "print(np.dot(C,D))\n",
        "print(np.dot(D,C))\n",
        "print(\"This shows Commutative property.\")\n",
        "#Distributive\n",
        "print(A*(B+C))\n",
        "print((A*B)+(A*C))\n",
        "print(\"This shows Distributive property.\")\n",
        "#Multiplication of zero\n",
        "E = ([[0,0,0,0], [0,0,0,0], [0,0,0,0], [0,0,0,0]])\n",
        "print(A)\n",
        "print(E)\n",
        "print(\"E multiplied to A is:\")\n",
        "print(E*A)\n",
        "print(\"This shows Multiplication of zero property.\")\n",
        "#Dimension\n",
        "D = np.array([\n",
        "[5,2],\n",
        "[9,4],\n",
        "[4,6],\n",
        "[1,8]])\n",
        "C = np.array([\n",
        "[5,9,4,1],\n",
        "[2,4,6,8]])\n",
        "print(np.dot(D,C))\n",
        "print(\"This shows Dimension property, where since the dimensions are 4 by 2 and 2 by 4, the dimensions of the product is 4 by 4.\")\n",
        "#multiplicative Identity\n",
        "E = ([\n",
        "[1,0,0,0],\n",
        "[0,1,0,0],\n",
        "[0,0,1,0],\n",
        "[0,0,0,1]])\n",
        "B = np.array([\n",
        "[6,1,2,5],\n",
        "[2,9,10,4],\n",
        "[6,9,8,5],\n",
        "[3,8,10,4]])\n",
        "print(np.dot(B,E))\n",
        "print(\"This shows Multiplicative Identity property, where it is shown that A multiplied to E is equal to A because E is a matrix with diagonal 1's.\")"
      ],
      "metadata": {
        "colab": {
          "base_uri": "https://localhost:8080/"
        },
        "id": "0BNA6vY05pss",
        "outputId": "b3c50c0a-0588-489f-dd71-10ffbd587ac7"
      },
      "execution_count": 64,
      "outputs": [
        {
          "output_type": "stream",
          "name": "stdout",
          "text": [
            "[[150  18   8  35]\n",
            " [ 36 144 180 256]\n",
            " [ 24 162 200 350]\n",
            " [ 21 512 700 100]]\n",
            "[[150  18   8  35]\n",
            " [ 36 144 180 256]\n",
            " [ 24 162 200 350]\n",
            " [ 21 512 700 100]]\n",
            "This shows Associative property.\n",
            "[[123  78  59 152]\n",
            " [ 78 120 100 146]\n",
            " [ 59 100  84 116]\n",
            " [152 146 116 238]]\n",
            "[[ 79 112 107  63]\n",
            " [112 170 155 102]\n",
            " [107 155 177 137]\n",
            " [ 63 102 137 139]]\n",
            "This shows Commutative property.\n",
            "[[ 55  90  24   6]\n",
            " [  8  52  96  96]\n",
            " [  7  36  65  84]\n",
            " [ 70 128 200  45]]\n",
            "[[ 55  90  24   6]\n",
            " [  8  52  96  96]\n",
            " [  7  36  65  84]\n",
            " [ 70 128 200  45]]\n",
            "This shows Distributive property.\n",
            "[[ 5  9  4  1]\n",
            " [ 2  4  6  8]\n",
            " [ 1  3  5  7]\n",
            " [ 7  8 10  5]]\n",
            "[[0, 0, 0, 0], [0, 0, 0, 0], [0, 0, 0, 0], [0, 0, 0, 0]]\n",
            "E multiplied to A is:\n",
            "[[0 0 0 0]\n",
            " [0 0 0 0]\n",
            " [0 0 0 0]\n",
            " [0 0 0 0]]\n",
            "This shows Multiplication of zero property.\n",
            "[[29 53 32 21]\n",
            " [53 97 60 41]\n",
            " [32 60 52 52]\n",
            " [21 41 52 65]]\n",
            "This shows Dimension property, where since the dimensions are 4 by 2 and 2 by 4, the dimensions of the product is 4 by 4.\n",
            "[[ 6  1  2  5]\n",
            " [ 2  9 10  4]\n",
            " [ 6  9  8  5]\n",
            " [ 3  8 10  4]]\n",
            "This shows Multiplicative Identity property, where it is shown that A multiplied to E is equal to A because E is a matrix with diagonal 1's.\n"
          ]
        }
      ]
    }
  ]
}