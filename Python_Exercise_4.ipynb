{
  "nbformat": 4,
  "nbformat_minor": 0,
  "metadata": {
    "colab": {
      "provenance": [],
      "authorship_tag": "ABX9TyOdC0ut5gjHuapBlpKypd65",
      "include_colab_link": true
    },
    "kernelspec": {
      "name": "python3",
      "display_name": "Python 3"
    },
    "language_info": {
      "name": "python"
    }
  },
  "cells": [
    {
      "cell_type": "markdown",
      "metadata": {
        "id": "view-in-github",
        "colab_type": "text"
      },
      "source": [
        "<a href=\"https://colab.research.google.com/github/AlexaMarieDonato/58013-LinearAlgebra/blob/main/Python_Exercise_4.ipynb\" target=\"_parent\"><img src=\"https://colab.research.google.com/assets/colab-badge.svg\" alt=\"Open In Colab\"/></a>"
      ]
    },
    {
      "cell_type": "markdown",
      "source": [
        "Vector Operations and Its Applications"
      ],
      "metadata": {
        "id": "sgBnhjwkxczZ"
      }
    },
    {
      "cell_type": "code",
      "execution_count": 7,
      "metadata": {
        "colab": {
          "base_uri": "https://localhost:8080/"
        },
        "id": "Pdr12lPUxcK8",
        "outputId": "6c782863-0b8d-4979-aba7-e7d4f0c1afd2"
      },
      "outputs": [
        {
          "output_type": "stream",
          "name": "stdout",
          "text": [
            "When we add the three vectors, we get:\n",
            " [[-0.8  1.9  2.1]\n",
            " [ 3.9  6.6  6.8]\n",
            " [-1.   1.7  1.9]]\n",
            "When we subtract the three vectors, we get:\n",
            " [[ 0.  -2.7 -2.9]\n",
            " [ 4.7  2.   1.8]\n",
            " [-0.2 -2.9 -3.1]]\n",
            "When we multiply the three vectors, we get:\n",
            " [[-0.016 -0.168 -0.6  ]\n",
            " [ 0.172  1.806  6.45 ]\n",
            " [-0.024 -0.252 -0.9  ]]\n",
            "When we divide the three vectors, we get:\n",
            " [[-10.          -0.95238095  -0.26666667]\n",
            " [107.5         10.23809524   2.86666667]\n",
            " [-15.          -1.42857143  -0.4       ]]\n"
          ]
        }
      ],
      "source": [
        "import numpy as np\n",
        "A = np.array([[-0.4],[4.3],[-0.6]])\n",
        "B = np.array([-0.2, 0.2, 1])\n",
        "C = np.array([-0.2, 2.1, 1.5])\n",
        "D = A + B + C\n",
        "E = A - B - C\n",
        "F = A * B * C\n",
        "G = A / B / C\n",
        "print(\"When we add the three vectors, we get:\\n\", D)\n",
        "print(\"When we subtract the three vectors, we get:\\n\", E)\n",
        "print(\"When we multiply the three vectors, we get:\\n\", F)\n",
        "print(\"When we divide the three vectors, we get:\\n\", G)"
      ]
    }
  ]
}